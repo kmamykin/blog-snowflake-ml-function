{
 "cells": [
  {
   "cell_type": "code",
   "execution_count": 46,
   "metadata": {
    "collapsed": true
   },
   "outputs": [],
   "source": [
    "import pandas as pd\n",
    "from pathlib import Path\n",
    "import en_core_web_md as spacy_model\n",
    "from tqdm import tqdm\n",
    "import json"
   ]
  },
  {
   "cell_type": "code",
   "execution_count": 47,
   "outputs": [
    {
     "data": {
      "text/plain": "                    id                                               text  \\\n0    98454970654916608  Republicans and Democrats have both created ou...   \n1  1234653427789070336  I was thrilled to be back in the Great city of...   \n2  1218010753434820614  RT @CBS_Herridge: READ: Letter to surveillance...   \n3  1304875170860015617  The Unsolicited Mail In Ballot Scam is a major...   \n4  1218159531554897920  RT @MZHemingway: Very friendly telling of even...   \n\n  isRetweet isDeleted              device  favorites  retweets  \\\n0         f         f           TweetDeck         49       255   \n1         f         f  Twitter for iPhone      73748     17404   \n2         t         f  Twitter for iPhone          0      7396   \n3         f         f  Twitter for iPhone      80527     23502   \n4         t         f  Twitter for iPhone          0      9081   \n\n                  date  \n0  2011-08-02 18:07:48  \n1  2020-03-03 01:34:50  \n2  2020-01-17 03:22:47  \n3  2020-09-12 20:10:58  \n4  2020-01-17 13:13:59  ",
      "text/html": "<div>\n<style scoped>\n    .dataframe tbody tr th:only-of-type {\n        vertical-align: middle;\n    }\n\n    .dataframe tbody tr th {\n        vertical-align: top;\n    }\n\n    .dataframe thead th {\n        text-align: right;\n    }\n</style>\n<table border=\"1\" class=\"dataframe\">\n  <thead>\n    <tr style=\"text-align: right;\">\n      <th></th>\n      <th>id</th>\n      <th>text</th>\n      <th>isRetweet</th>\n      <th>isDeleted</th>\n      <th>device</th>\n      <th>favorites</th>\n      <th>retweets</th>\n      <th>date</th>\n    </tr>\n  </thead>\n  <tbody>\n    <tr>\n      <th>0</th>\n      <td>98454970654916608</td>\n      <td>Republicans and Democrats have both created ou...</td>\n      <td>f</td>\n      <td>f</td>\n      <td>TweetDeck</td>\n      <td>49</td>\n      <td>255</td>\n      <td>2011-08-02 18:07:48</td>\n    </tr>\n    <tr>\n      <th>1</th>\n      <td>1234653427789070336</td>\n      <td>I was thrilled to be back in the Great city of...</td>\n      <td>f</td>\n      <td>f</td>\n      <td>Twitter for iPhone</td>\n      <td>73748</td>\n      <td>17404</td>\n      <td>2020-03-03 01:34:50</td>\n    </tr>\n    <tr>\n      <th>2</th>\n      <td>1218010753434820614</td>\n      <td>RT @CBS_Herridge: READ: Letter to surveillance...</td>\n      <td>t</td>\n      <td>f</td>\n      <td>Twitter for iPhone</td>\n      <td>0</td>\n      <td>7396</td>\n      <td>2020-01-17 03:22:47</td>\n    </tr>\n    <tr>\n      <th>3</th>\n      <td>1304875170860015617</td>\n      <td>The Unsolicited Mail In Ballot Scam is a major...</td>\n      <td>f</td>\n      <td>f</td>\n      <td>Twitter for iPhone</td>\n      <td>80527</td>\n      <td>23502</td>\n      <td>2020-09-12 20:10:58</td>\n    </tr>\n    <tr>\n      <th>4</th>\n      <td>1218159531554897920</td>\n      <td>RT @MZHemingway: Very friendly telling of even...</td>\n      <td>t</td>\n      <td>f</td>\n      <td>Twitter for iPhone</td>\n      <td>0</td>\n      <td>9081</td>\n      <td>2020-01-17 13:13:59</td>\n    </tr>\n  </tbody>\n</table>\n</div>"
     },
     "execution_count": 47,
     "metadata": {},
     "output_type": "execute_result"
    }
   ],
   "source": [
    "tweets = pd.read_csv(Path('../data/tweets_11-06-2020.csv'))\n",
    "tweets.head()\n"
   ],
   "metadata": {
    "collapsed": false,
    "pycharm": {
     "name": "#%%\n"
    }
   }
  },
  {
   "cell_type": "code",
   "execution_count": 48,
   "outputs": [],
   "source": [
    "nlp = spacy_model.load()"
   ],
   "metadata": {
    "collapsed": false,
    "pycharm": {
     "name": "#%%\n"
    }
   }
  },
  {
   "cell_type": "code",
   "execution_count": 49,
   "outputs": [
    {
     "name": "stdout",
     "output_type": "stream",
     "text": [
      "Republicans and Democrats have both created our economic problems.\n",
      "Republicans 0 11 NORP\n",
      "Democrats 16 25 NORP\n"
     ]
    }
   ],
   "source": [
    "# Lets try it out on the first record\n",
    "text = tweets.loc[0,'text']\n",
    "doc = nlp(text)\n",
    "print(text)\n",
    "for ent in doc.ents:\n",
    "    print(ent.text, ent.start_char, ent.end_char, ent.label_)"
   ],
   "metadata": {
    "collapsed": false,
    "pycharm": {
     "name": "#%%\n"
    }
   }
  },
  {
   "cell_type": "code",
   "execution_count": 50,
   "outputs": [
    {
     "name": "stderr",
     "output_type": "stream",
     "text": [
      "100%|██████████| 55090/55090 [00:58<00:00, 942.48it/s] \n"
     ]
    }
   ],
   "source": [
    "texts = tweets['text']\n",
    "docs = [doc for doc in nlp.pipe(tqdm(texts), disable=[\"tagger\", \"parser\"])]"
   ],
   "metadata": {
    "collapsed": false,
    "pycharm": {
     "name": "#%%\n"
    }
   }
  },
  {
   "cell_type": "code",
   "execution_count": 51,
   "outputs": [
    {
     "name": "stdout",
     "output_type": "stream",
     "text": [
      "{'entities': [{'text': 'Republicans', 'start_char': 0, 'end_char': 11, 'label': 'NORP'}, {'text': 'Democrats', 'start_char': 16, 'end_char': 25, 'label': 'NORP'}]}\n"
     ]
    }
   ],
   "source": [
    "def doc_to_ner(doc):\n",
    "    result = {}\n",
    "    result['entities'] = [{'text': ent.text, 'start_char': ent.start_char, 'end_char': ent.end_char, 'label': ent.label_} for ent in doc.ents]\n",
    "    return result\n",
    "print(doc_to_ner(docs[0]))"
   ],
   "metadata": {
    "collapsed": false,
    "pycharm": {
     "name": "#%%\n"
    }
   }
  },
  {
   "cell_type": "code",
   "execution_count": 52,
   "outputs": [
    {
     "name": "stdout",
     "output_type": "stream",
     "text": [
      "[{\"entities\": [{\"text\": \"Charlotte\", \"start_char\": 47, \"end_char\": 56, \"label\": \"GPE\"}, {\"text\": \"North Carolina\", \"start_char\": 58, \"end_char\": 72, \"label\": \"GPE\"}, {\"text\": \"thousands\", \"start_char\": 78, \"end_char\": 87, \"label\": \"CARDINAL\"}, {\"text\": \"American\", \"start_char\": 103, \"end_char\": 111, \"label\": \"NORP\"}, {\"text\": \"AMERICA\", \"start_char\": 196, \"end_char\": 203, \"label\": \"GPE\"}, {\"text\": \"FIRST\", \"start_char\": 204, \"end_char\": 209, \"label\": \"ORDINAL\"}, {\"text\": \"a wonderful evening\", \"start_char\": 225, \"end_char\": 244, \"label\": \"TIME\"}, {\"text\": \"#KAG2020\", \"start_char\": 247, \"end_char\": 255, \"label\": \"PERSON\"}]}, {\"entities\": [{\"text\": \"CBS News\", \"start_char\": 65, \"end_char\": 73, \"label\": \"ORG\"}]}, {\"entities\": [{\"text\": \"The Unsolicited Mail In Ballot Scam\", \"start_char\": 0, \"end_char\": 35, \"label\": \"ORG\"}, {\"text\": \"Democracy, &amp\", \"start_char\": 61, \"end_char\": 76, \"label\": \"ORG\"}, {\"text\": \"Democrats\", \"start_char\": 82, \"end_char\": 91, \"label\": \"NORP\"}, {\"text\": \"Ballots &amp\", \"start_char\": 270, \"end_char\": 282, \"label\": \"ORG\"}]}, {\"entities\": [{\"text\": \"RT\", \"start_char\": 0, \"end_char\": 2, \"label\": \"ORG\"}, {\"text\": \"Comey\", \"start_char\": 60, \"end_char\": 65, \"label\": \"PERSON\"}]}, {\"entities\": [{\"text\": \"RT\", \"start_char\": 0, \"end_char\": 2, \"label\": \"ORG\"}, {\"text\": \"@realDonaldTrump\", \"start_char\": 26, \"end_char\": 42, \"label\": \"PERSON\"}, {\"text\": \"https://\", \"start_char\": 131, \"end_char\": 139, \"label\": \"GPE\"}]}, {\"entities\": [{\"text\": \"Democrat\", \"start_char\": 24, \"end_char\": 32, \"label\": \"NORP\"}, {\"text\": \"Senate\", \"start_char\": 42, \"end_char\": 48, \"label\": \"ORG\"}, {\"text\": \"Sleepy Joe Biden\", \"start_char\": 51, \"end_char\": 67, \"label\": \"PERSON\"}, {\"text\": \"today\", \"start_char\": 68, \"end_char\": 73, \"label\": \"DATE\"}, {\"text\": \"County - China\", \"start_char\": 135, \"end_char\": 149, \"label\": \"GPE\"}]}, {\"entities\": []}, {\"entities\": []}, {\"entities\": []}, {\"entities\": []}, {\"entities\": []}, {\"entities\": [{\"text\": \"RT\", \"start_char\": 0, \"end_char\": 2, \"label\": \"ORG\"}]}, {\"entities\": [{\"text\": \"RT\", \"start_char\": 0, \"end_char\": 2, \"label\": \"ORG\"}, {\"text\": \"273\", \"start_char\": 49, \"end_char\": 52, \"label\": \"CARDINAL\"}, {\"text\": \"February\", \"start_char\": 68, \"end_char\": 76, \"label\": \"DATE\"}, {\"text\": \"7M+\", \"start_char\": 79, \"end_char\": 82, \"label\": \"CARDINAL\"}, {\"text\": \"@realDonaldTrump\", \"start_char\": 100, \"end_char\": 116, \"label\": \"ORG\"}, {\"text\": \"Unemploym\", \"start_char\": 130, \"end_char\": 139, \"label\": \"GPE\"}]}, {\"entities\": [{\"text\": \"RT\", \"start_char\": 0, \"end_char\": 2, \"label\": \"ORG\"}, {\"text\": \"Vindman\", \"start_char\": 15, \"end_char\": 22, \"label\": \"PERSON\"}, {\"text\": \"White House\", \"start_char\": 95, \"end_char\": 106, \"label\": \"FAC\"}]}, {\"entities\": [{\"text\": \"Elise\", \"start_char\": 10, \"end_char\": 15, \"label\": \"PERSON\"}]}, {\"entities\": [{\"text\": \"Joe\", \"start_char\": 21, \"end_char\": 24, \"label\": \"PERSON\"}]}, {\"entities\": [{\"text\": \"RT\", \"start_char\": 0, \"end_char\": 2, \"label\": \"ORG\"}, {\"text\": \"Trump\", \"start_char\": 29, \"end_char\": 34, \"label\": \"PERSON\"}, {\"text\": \"Biden\", \"start_char\": 77, \"end_char\": 82, \"label\": \"PERSON\"}]}, {\"entities\": []}, {\"entities\": [{\"text\": \"today\", \"start_char\": 9, \"end_char\": 14, \"label\": \"DATE\"}, {\"text\": \"the United States\", \"start_char\": 19, \"end_char\": 36, \"label\": \"GPE\"}, {\"text\": \"Sudan\", \"start_char\": 65, \"end_char\": 70, \"label\": \"GPE\"}, {\"text\": \"Israel\", \"start_char\": 126, \"end_char\": 132, \"label\": \"GPE\"}, {\"text\": \"the United Arab Emirates\", \"start_char\": 139, \"end_char\": 163, \"label\": \"GPE\"}, {\"text\": \"Bahrain\", \"start_char\": 168, \"end_char\": 175, \"label\": \"GPE\"}, {\"text\": \"THREE\", \"start_char\": 184, \"end_char\": 189, \"label\": \"CARDINAL\"}, {\"text\": \"Arab\", \"start_char\": 190, \"end_char\": 194, \"label\": \"NORP\"}, {\"text\": \"weeks\", \"start_char\": 241, \"end_char\": 246, \"label\": \"DATE\"}]}, {\"entities\": [{\"text\": \"RT\", \"start_char\": 0, \"end_char\": 2, \"label\": \"ORG\"}, {\"text\": \"1st\", \"start_char\": 44, \"end_char\": 47, \"label\": \"DATE\"}, {\"text\": \"millions\", \"start_char\": 53, \"end_char\": 61, \"label\": \"CARDINAL\"}, {\"text\": \"Americans\", \"start_char\": 65, \"end_char\": 74, \"label\": \"NORP\"}, {\"text\": \"Obama\", \"start_char\": 107, \"end_char\": 112, \"label\": \"PERSON\"}]}, {\"entities\": [{\"text\": \"Megyn\", \"start_char\": 10, \"end_char\": 15, \"label\": \"PERSON\"}, {\"text\": \"https://t.co/sC71EEWIOd\", \"start_char\": 17, \"end_char\": 40, \"label\": \"GPE\"}]}, {\"entities\": [{\"text\": \"11 DAYS\", \"start_char\": 0, \"end_char\": 7, \"label\": \"DATE\"}]}, {\"entities\": [{\"text\": \"Trump\", \"start_char\": 16, \"end_char\": 21, \"label\": \"PERSON\"}, {\"text\": \"Biden\", \"start_char\": 48, \"end_char\": 53, \"label\": \"PERSON\"}, {\"text\": \"Trump\", \"start_char\": 77, \"end_char\": 82, \"label\": \"PERSON\"}]}, {\"entities\": [{\"text\": \"Obama\", \"start_char\": 25, \"end_char\": 30, \"label\": \"PERSON\"}, {\"text\": \"47\", \"start_char\": 54, \"end_char\": 56, \"label\": \"CARDINAL\"}, {\"text\": \"Joe\", \"start_char\": 98, \"end_char\": 101, \"label\": \"PERSON\"}]}, {\"entities\": [{\"text\": \"Ohio\", \"start_char\": 15, \"end_char\": 19, \"label\": \"GPE\"}]}, {\"entities\": []}, {\"entities\": [{\"text\": \"OHIO\", \"start_char\": 10, \"end_char\": 14, \"label\": \"GPE\"}]}, {\"entities\": [{\"text\": \"Ohio\", \"start_char\": 15, \"end_char\": 19, \"label\": \"GPE\"}, {\"text\": \"Wisconsin\", \"start_char\": 37, \"end_char\": 46, \"label\": \"GPE\"}]}, {\"entities\": []}, {\"entities\": []}, {\"entities\": []}, {\"entities\": [{\"text\": \"RT\", \"start_char\": 0, \"end_char\": 2, \"label\": \"ORG\"}, {\"text\": \"@realDonaldTrump\", \"start_char\": 26, \"end_char\": 42, \"label\": \"PERSON\"}, {\"text\": \"\\ud83c\\uddf8\\ud83e\\udd85\", \"start_char\": 73, \"end_char\": 75, \"label\": \"PRODUCT\"}, {\"text\": \"Circleville\", \"start_char\": 84, \"end_char\": 95, \"label\": \"GPE\"}, {\"text\": \"Ohio\", \"start_char\": 97, \"end_char\": 101, \"label\": \"GPE\"}, {\"text\": \"OHIO\", \"start_char\": 127, \"end_char\": 131, \"label\": \"GPE\"}, {\"text\": \"TRUM\", \"start_char\": 135, \"end_char\": 139, \"label\": \"ORG\"}]}, {\"entities\": [{\"text\": \"RT\", \"start_char\": 0, \"end_char\": 2, \"label\": \"ORG\"}, {\"text\": \"Election Day\", \"start_char\": 122, \"end_char\": 134, \"label\": \"DATE\"}]}, {\"entities\": [{\"text\": \"RT\", \"start_char\": 0, \"end_char\": 2, \"label\": \"ORG\"}, {\"text\": \"TONIGHT\", \"start_char\": 15, \"end_char\": 22, \"label\": \"TIME\"}, {\"text\": \"@realDonaldTrump\", \"start_char\": 40, \"end_char\": 56, \"label\": \"PERSON\"}, {\"text\": \"Waukesha\", \"start_char\": 72, \"end_char\": 80, \"label\": \"GPE\"}, {\"text\": \"Wisconsin\", \"start_char\": 82, \"end_char\": 91, \"label\": \"GPE\"}, {\"text\": \"8:00 pm ET\", \"start_char\": 95, \"end_char\": 105, \"label\": \"TIME\"}]}, {\"entities\": [{\"text\": \"@realDonaldTrump\", \"start_char\": 19, \"end_char\": 35, \"label\": \"PERSON\"}, {\"text\": \"four years ago\", \"start_char\": 77, \"end_char\": 91, \"label\": \"DATE\"}]}, {\"entities\": [{\"text\": \"OHIO\", \"start_char\": 10, \"end_char\": 14, \"label\": \"GPE\"}]}, {\"entities\": [{\"text\": \"Biden\", \"start_char\": 26, \"end_char\": 31, \"label\": \"PERSON\"}]}, {\"entities\": [{\"text\": \"Wisconsin\", \"start_char\": 10, \"end_char\": 19, \"label\": \"GPE\"}]}, {\"entities\": []}, {\"entities\": [{\"text\": \"https://t.co/yRr4OagnTO\", \"start_char\": 28, \"end_char\": 51, \"label\": \"PERSON\"}]}, {\"entities\": [{\"text\": \"tonight\", \"start_char\": 38, \"end_char\": 45, \"label\": \"TIME\"}, {\"text\": \"Ohio\", \"start_char\": 70, \"end_char\": 74, \"label\": \"GPE\"}, {\"text\": \"Wisconsin\", \"start_char\": 78, \"end_char\": 87, \"label\": \"GPE\"}]}, {\"entities\": [{\"text\": \"\\ud83c\\uddf8\", \"start_char\": 104, \"end_char\": 105, \"label\": \"ORG\"}]}, {\"entities\": []}, {\"entities\": []}, {\"entities\": [{\"text\": \"WISCONSIN\", \"start_char\": 10, \"end_char\": 19, \"label\": \"GPE\"}]}, {\"entities\": []}, {\"entities\": []}, {\"entities\": [{\"text\": \"2A\", \"start_char\": 177, \"end_char\": 179, \"label\": \"MONEY\"}, {\"text\": \"USA\", \"start_char\": 274, \"end_char\": 277, \"label\": \"GPE\"}]}, {\"entities\": [{\"text\": \"RT\", \"start_char\": 0, \"end_char\": 2, \"label\": \"ORG\"}, {\"text\": \"Joe Biden &amp\", \"start_char\": 16, \"end_char\": 30, \"label\": \"PERSON\"}, {\"text\": \"2/2/16\", \"start_char\": 57, \"end_char\": 63, \"label\": \"CARDINAL\"}, {\"text\": \"Ukrainian\", \"start_char\": 65, \"end_char\": 74, \"label\": \"NORP\"}, {\"text\": \"Burisma\", \"start_char\": 105, \"end_char\": 112, \"label\": \"LOC\"}]}, {\"entities\": [{\"text\": \"Joe Biden\", \"start_char\": 83, \"end_char\": 92, \"label\": \"PERSON\"}]}, {\"entities\": [{\"text\": \"WISCONSIN\", \"start_char\": 0, \"end_char\": 9, \"label\": \"GPE\"}, {\"text\": \"#VOTE #\", \"start_char\": 11, \"end_char\": 18, \"label\": \"MONEY\"}, {\"text\": \"MAGA\", \"start_char\": 18, \"end_char\": 22, \"label\": \"ORG\"}]}, {\"entities\": [{\"text\": \"https://t.co/gsFSghkmdM\", \"start_char\": 0, \"end_char\": 23, \"label\": \"DATE\"}, {\"text\": \"https://t.co/XB1XImsQlG\", \"start_char\": 24, \"end_char\": 47, \"label\": \"FAC\"}]}, {\"entities\": [{\"text\": \"RT\", \"start_char\": 0, \"end_char\": 2, \"label\": \"ORG\"}, {\"text\": \"Biden\", \"start_char\": 40, \"end_char\": 45, \"label\": \"PERSON\"}, {\"text\": \"the Chinese Communist Party\", \"start_char\": 74, \"end_char\": 101, \"label\": \"ORG\"}, {\"text\": \"doc\", \"start_char\": 116, \"end_char\": 119, \"label\": \"ORG\"}, {\"text\": \"Jim\", \"start_char\": 135, \"end_char\": 138, \"label\": \"PERSON\"}]}, {\"entities\": [{\"text\": \"RT\", \"start_char\": 0, \"end_char\": 2, \"label\": \"ORG\"}, {\"text\": \"Joe Biden\", \"start_char\": 16, \"end_char\": 25, \"label\": \"PERSON\"}]}, {\"entities\": [{\"text\": \"RT\", \"start_char\": 0, \"end_char\": 2, \"label\": \"ORG\"}, {\"text\": \"@realDonaldTrump\", \"start_char\": 59, \"end_char\": 75, \"label\": \"PERSON\"}, {\"text\": \"the Federal School Safety Report\", \"start_char\": 98, \"end_char\": 130, \"label\": \"ORG\"}]}, {\"entities\": [{\"text\": \"RT\", \"start_char\": 0, \"end_char\": 2, \"label\": \"ORG\"}, {\"text\": \"@realDonaldTrump\", \"start_char\": 94, \"end_char\": 110, \"label\": \"PERSON\"}]}, {\"entities\": [{\"text\": \"RT\", \"start_char\": 0, \"end_char\": 2, \"label\": \"ORG\"}, {\"text\": \"Joe Biden\", \"start_char\": 16, \"end_char\": 25, \"label\": \"PERSON\"}, {\"text\": \"American\", \"start_char\": 111, \"end_char\": 119, \"label\": \"NORP\"}]}, {\"entities\": [{\"text\": \"https://t.co/WuLi07jXaK\", \"start_char\": 0, \"end_char\": 23, \"label\": \"CARDINAL\"}]}, {\"entities\": [{\"text\": \"RT\", \"start_char\": 0, \"end_char\": 2, \"label\": \"ORG\"}]}, {\"entities\": [{\"text\": \"RT\", \"start_char\": 0, \"end_char\": 2, \"label\": \"ORG\"}, {\"text\": \"Post\", \"start_char\": 31, \"end_char\": 35, \"label\": \"ORG\"}, {\"text\": \"more than two centuries\", \"start_char\": 70, \"end_char\": 93, \"label\": \"DATE\"}, {\"text\": \"American\", \"start_char\": 97, \"end_char\": 105, \"label\": \"NORP\"}]}, {\"entities\": [{\"text\": \"RT\", \"start_char\": 0, \"end_char\": 2, \"label\": \"ORG\"}, {\"text\": \"Joe Biden\", \"start_char\": 21, \"end_char\": 30, \"label\": \"PERSON\"}, {\"text\": \"American\", \"start_char\": 127, \"end_char\": 135, \"label\": \"NORP\"}]}, {\"entities\": [{\"text\": \"Murkowski\", \"start_char\": 14, \"end_char\": 23, \"label\": \"PERSON\"}, {\"text\": \"SCOTUS\", \"start_char\": 59, \"end_char\": 65, \"label\": \"ORG\"}]}, {\"entities\": [{\"text\": \"RT\", \"start_char\": 0, \"end_char\": 2, \"label\": \"ORG\"}]}, {\"entities\": [{\"text\": \"RT\", \"start_char\": 0, \"end_char\": 2, \"label\": \"ORG\"}, {\"text\": \"Barack Obama\", \"start_char\": 36, \"end_char\": 48, \"label\": \"PERSON\"}]}, {\"entities\": [{\"text\": \"RT\", \"start_char\": 0, \"end_char\": 2, \"label\": \"ORG\"}, {\"text\": \"one\", \"start_char\": 33, \"end_char\": 36, \"label\": \"CARDINAL\"}, {\"text\": \"Joe Biden\", \"start_char\": 55, \"end_char\": 64, \"label\": \"PERSON\"}, {\"text\": \"this weekend\", \"start_char\": 70, \"end_char\": 82, \"label\": \"DATE\"}, {\"text\": \"Pennsylvania\", \"start_char\": 98, \"end_char\": 110, \"label\": \"GPE\"}]}, {\"entities\": []}, {\"entities\": [{\"text\": \"RT\", \"start_char\": 0, \"end_char\": 2, \"label\": \"ORG\"}, {\"text\": \"Joe Biden\", \"start_char\": 18, \"end_char\": 27, \"label\": \"PERSON\"}, {\"text\": \"eight years\", \"start_char\": 79, \"end_char\": 90, \"label\": \"DATE\"}, {\"text\": \"Republican\", \"start_char\": 108, \"end_char\": 118, \"label\": \"NORP\"}, {\"text\": \"Congress\", \"start_char\": 119, \"end_char\": 127, \"label\": \"ORG\"}]}, {\"entities\": [{\"text\": \"RT\", \"start_char\": 0, \"end_char\": 2, \"label\": \"ORG\"}]}, {\"entities\": []}, {\"entities\": []}, {\"entities\": []}, {\"entities\": [{\"text\": \"RT\", \"start_char\": 0, \"end_char\": 2, \"label\": \"ORG\"}, {\"text\": \"Joe Biden\", \"start_char\": 19, \"end_char\": 28, \"label\": \"PERSON\"}, {\"text\": \"19 million\", \"start_char\": 39, \"end_char\": 49, \"label\": \"CARDINAL\"}, {\"text\": \"American\", \"start_char\": 50, \"end_char\": 58, \"label\": \"NORP\"}]}, {\"entities\": [{\"text\": \"Pensacola\", \"start_char\": 10, \"end_char\": 19, \"label\": \"GPE\"}, {\"text\": \"Florida\", \"start_char\": 21, \"end_char\": 28, \"label\": \"GPE\"}, {\"text\": \"America\", \"start_char\": 61, \"end_char\": 68, \"label\": \"GPE\"}]}, {\"entities\": []}, {\"entities\": [{\"text\": \"RT @piersmorgan\", \"start_char\": 0, \"end_char\": 15, \"label\": \"PERSON\"}]}, {\"entities\": [{\"text\": \"89%\", \"start_char\": 21, \"end_char\": 24, \"label\": \"PERCENT\"}, {\"text\": \"11%\", \"start_char\": 32, \"end_char\": 35, \"label\": \"PERCENT\"}, {\"text\": \"Joe Biden\", \"start_char\": 43, \"end_char\": 52, \"label\": \"PERSON\"}]}, {\"entities\": []}, {\"entities\": [{\"text\": \"Megyn\", \"start_char\": 31, \"end_char\": 36, \"label\": \"PERSON\"}]}, {\"entities\": [{\"text\": \"\\ud83e\\udd23\\ud83e\\udd23\\ud83e\\udd23\", \"start_char\": 20, \"end_char\": 23, \"label\": \"PERSON\"}, {\"text\": \"\\ud83c\\uddf8\", \"start_char\": 36, \"end_char\": 37, \"label\": \"ORG\"}]}, {\"entities\": []}, {\"entities\": [{\"text\": \"Yesterday\", \"start_char\": 20, \"end_char\": 29, \"label\": \"DATE\"}, {\"text\": \"Duke Tanner\", \"start_char\": 55, \"end_char\": 66, \"label\": \"PERSON\"}, {\"text\": \"16 years\", \"start_char\": 82, \"end_char\": 90, \"label\": \"DATE\"}]}, {\"entities\": [{\"text\": \"RT\", \"start_char\": 0, \"end_char\": 2, \"label\": \"ORG\"}, {\"text\": \"@realDonaldTrump\", \"start_char\": 24, \"end_char\": 40, \"label\": \"PERSON\"}]}, {\"entities\": [{\"text\": \"Biden\", \"start_char\": 82, \"end_char\": 87, \"label\": \"PERSON\"}]}, {\"entities\": [{\"text\": \"The Fake News\", \"start_char\": 0, \"end_char\": 13, \"label\": \"ORG\"}, {\"text\": \"prior to November 3rd\", \"start_char\": 138, \"end_char\": 159, \"label\": \"DATE\"}, {\"text\": \"85%\", \"start_char\": 269, \"end_char\": 272, \"label\": \"PERCENT\"}]}, {\"entities\": [{\"text\": \"\\ud83d\\udea8\", \"start_char\": 16, \"end_char\": 17, \"label\": \"NORP\"}, {\"text\": \"Michigan\", \"start_char\": 36, \"end_char\": 44, \"label\": \"GPE\"}, {\"text\": \"\\ud83d\\udea8\", \"start_char\": 44, \"end_char\": 45, \"label\": \"NORP\"}, {\"text\": \"\\u2705\", \"start_char\": 47, \"end_char\": 48, \"label\": \"ORDINAL\"}, {\"text\": \"GOTV\", \"start_char\": 85, \"end_char\": 89, \"label\": \"ORG\"}, {\"text\": \"@POTUS &amp\", \"start_char\": 94, \"end_char\": 105, \"label\": \"ORG\"}, {\"text\": \"@JohnJamesMI\", \"start_char\": 107, \"end_char\": 119, \"label\": \"ORG\"}, {\"text\": \"America\", \"start_char\": 129, \"end_char\": 136, \"label\": \"GPE\"}]}, {\"entities\": [{\"text\": \"RT\", \"start_char\": 0, \"end_char\": 2, \"label\": \"ORG\"}, {\"text\": \"Oct\", \"start_char\": 28, \"end_char\": 31, \"label\": \"DATE\"}, {\"text\": \"\\u2705Obama \\u2018\", \"start_char\": 63, \"end_char\": 71, \"label\": \"PERSON\"}, {\"text\": \"12\", \"start_char\": 71, \"end_char\": 73, \"label\": \"CARDINAL\"}, {\"text\": \"149.1\", \"start_char\": 76, \"end_char\": 81, \"label\": \"CARDINAL\"}, {\"text\": \"Hillary\", \"start_char\": 84, \"end_char\": 91, \"label\": \"PERSON\"}, {\"text\": \"16\", \"start_char\": 93, \"end_char\": 95, \"label\": \"CARDINAL\"}, {\"text\": \"165.0M\\n\", \"start_char\": 99, \"end_char\": 106, \"label\": \"MONEY\"}, {\"text\": \"Trump\", \"start_char\": 107, \"end_char\": 112, \"label\": \"ORG\"}, {\"text\": \"20\", \"start_char\": 114, \"end_char\": 116, \"label\": \"CARDINAL\"}, {\"text\": \"251.6\", \"start_char\": 120, \"end_char\": 125, \"label\": \"CARDINAL\"}, {\"text\": \"Trump\", \"start_char\": 127, \"end_char\": 132, \"label\": \"PERSON\"}]}, {\"entities\": [{\"text\": \"#VoteEarlyDay #\", \"start_char\": 0, \"end_char\": 15, \"label\": \"MONEY\"}, {\"text\": \"MAGA\", \"start_char\": 15, \"end_char\": 19, \"label\": \"ORG\"}, {\"text\": \"\\ud83c\\uddf8\", \"start_char\": 20, \"end_char\": 21, \"label\": \"ORG\"}]}, {\"entities\": [{\"text\": \"Washington\", \"start_char\": 33, \"end_char\": 43, \"label\": \"GPE\"}, {\"text\": \"the Washington Establishment\", \"start_char\": 131, \"end_char\": 159, \"label\": \"ORG\"}]}, {\"entities\": [{\"text\": \"RT\", \"start_char\": 0, \"end_char\": 2, \"label\": \"ORG\"}, {\"text\": \"Stahl\", \"start_char\": 32, \"end_char\": 37, \"label\": \"PERSON\"}, {\"text\": \"@realDonaldTrump\", \"start_char\": 67, \"end_char\": 83, \"label\": \"ORG\"}]}, {\"entities\": []}, {\"entities\": [{\"text\": \"RT\", \"start_char\": 0, \"end_char\": 2, \"label\": \"ORG\"}]}, {\"entities\": [{\"text\": \"years\", \"start_char\": 7, \"end_char\": 12, \"label\": \"DATE\"}, {\"text\": \"one\", \"start_char\": 24, \"end_char\": 27, \"label\": \"CARDINAL\"}, {\"text\": \"Joe Biden\", \"start_char\": 72, \"end_char\": 81, \"label\": \"PERSON\"}, {\"text\": \"American Workers\", \"start_char\": 91, \"end_char\": 107, \"label\": \"ORG\"}, {\"text\": \"millions\", \"start_char\": 146, \"end_char\": 154, \"label\": \"CARDINAL\"}, {\"text\": \"American\", \"start_char\": 158, \"end_char\": 166, \"label\": \"NORP\"}, {\"text\": \"millions of dollars\", \"start_char\": 206, \"end_char\": 225, \"label\": \"MONEY\"}]}, {\"entities\": [{\"text\": \"Joe Biden\", \"start_char\": 0, \"end_char\": 9, \"label\": \"PERSON\"}, {\"text\": \"China\", \"start_char\": 56, \"end_char\": 61, \"label\": \"GPE\"}, {\"text\": \"Biden\", \"start_char\": 79, \"end_char\": 84, \"label\": \"PERSON\"}, {\"text\": \"Biden Wins\", \"start_char\": 103, \"end_char\": 113, \"label\": \"PERSON\"}, {\"text\": \"CHINA\", \"start_char\": 115, \"end_char\": 120, \"label\": \"GPE\"}, {\"text\": \"China\", \"start_char\": 132, \"end_char\": 137, \"label\": \"GPE\"}, {\"text\": \"AMERICA\", \"start_char\": 147, \"end_char\": 154, \"label\": \"GPE\"}, {\"text\": \"first\", \"start_char\": 225, \"end_char\": 230, \"label\": \"ORDINAL\"}]}, {\"entities\": [{\"text\": \"RT\", \"start_char\": 0, \"end_char\": 2, \"label\": \"ORG\"}, {\"text\": \"Biden\", \"start_char\": 31, \"end_char\": 36, \"label\": \"PERSON\"}]}, {\"entities\": [{\"text\": \"the Great American Patriots\", \"start_char\": 20, \"end_char\": 47, \"label\": \"ORG\"}, {\"text\": \"The Villages\", \"start_char\": 51, \"end_char\": 63, \"label\": \"GPE\"}, {\"text\": \"Florida\", \"start_char\": 65, \"end_char\": 72, \"label\": \"GPE\"}, {\"text\": \"#MAGA https://t.co/CNEVwNroVE\", \"start_char\": 74, \"end_char\": 103, \"label\": \"PERSON\"}]}, {\"entities\": [{\"text\": \"RT\", \"start_char\": 0, \"end_char\": 2, \"label\": \"ORG\"}, {\"text\": \"Joe Biden\", \"start_char\": 23, \"end_char\": 32, \"label\": \"PERSON\"}, {\"text\": \"Hitler\", \"start_char\": 75, \"end_char\": 81, \"label\": \"PERSON\"}, {\"text\": \"Joe\", \"start_char\": 112, \"end_char\": 115, \"label\": \"PERSON\"}]}, {\"entities\": []}, {\"entities\": []}, {\"entities\": [{\"text\": \"37th\", \"start_char\": 7, \"end_char\": 11, \"label\": \"ORDINAL\"}, {\"text\": \"United States Marines\", \"start_char\": 56, \"end_char\": 77, \"label\": \"ORG\"}, {\"text\": \"Sailors\", \"start_char\": 79, \"end_char\": 86, \"label\": \"PERSON\"}, {\"text\": \"Soldiers\", \"start_char\": 92, \"end_char\": 100, \"label\": \"NORP\"}, {\"text\": \"Beirut\", \"start_char\": 104, \"end_char\": 110, \"label\": \"GPE\"}, {\"text\": \"241\", \"start_char\": 125, \"end_char\": 128, \"label\": \"CARDINAL\"}, {\"text\": \"that day\", \"start_char\": 157, \"end_char\": 165, \"label\": \"DATE\"}, {\"text\": \"Semper Fi\", \"start_char\": 194, \"end_char\": 203, \"label\": \"PERSON\"}]}]\n"
     ]
    }
   ],
   "source": [
    "print(json.dumps([doc_to_ner(doc) for doc in docs][1:100]))"
   ],
   "metadata": {
    "collapsed": false,
    "pycharm": {
     "name": "#%%\n"
    }
   }
  },
  {
   "cell_type": "code",
   "execution_count": null,
   "outputs": [],
   "source": [],
   "metadata": {
    "collapsed": false,
    "pycharm": {
     "name": "#%%\n"
    }
   }
  }
 ],
 "metadata": {
  "kernelspec": {
   "display_name": "Python 3",
   "language": "python",
   "name": "python3"
  },
  "language_info": {
   "codemirror_mode": {
    "name": "ipython",
    "version": 2
   },
   "file_extension": ".py",
   "mimetype": "text/x-python",
   "name": "python",
   "nbconvert_exporter": "python",
   "pygments_lexer": "ipython2",
   "version": "2.7.6"
  }
 },
 "nbformat": 4,
 "nbformat_minor": 0
}